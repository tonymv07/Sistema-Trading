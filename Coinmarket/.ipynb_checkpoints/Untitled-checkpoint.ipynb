{
 "cells": [
  {
   "cell_type": "code",
   "execution_count": null,
   "id": "8ac07772",
   "metadata": {},
   "outputs": [],
   "source": [
    "import os\n",
    "import requests\n",
    "import datetime\n",
    "from datetime import date, timedelta\n",
    "\n",
    "url = 'https://pro-api.coinmarketcap.com/v1/cryptocurrency/listings/latest'\n",
    "parameters = {\n",
    "  'start':'1',\n",
    "  'limit':'5000',\n",
    "  'convert':'USD'\n",
    "}\n",
    "headers = {\n",
    "  'Accepts': 'application/json',\n",
    "  'X-CMC_PRO_API_KEY': 'da62bf9d-971f-4a45-abd1-d6c558606b01',\n",
    "}\n",
    "\n",
    "response = requests.get(url, params = parameters, headers = headers)\n",
    "data = response.json()['data']\n",
    "today = date.today()\n",
    "yesterday = str(today - timedelta(days=2))\n",
    "yesterday_datetime = datetime.datetime.strptime(yesterday, '%Y-%m-%d')\n",
    " \n",
    "\n",
    "try:\n",
    "\n",
    "    for i in range(0,len(data), 1):\n",
    "        name = data[i]['slug']\n",
    "        date_added_str = data[i]['date_added'][:10]\n",
    "        date_added = datetime.datetime.strptime(date_added_str, '%Y-%m-%d')\n",
    "\n",
    "        if yesterday_datetime < date_added:\n",
    "            print(name,\" : \",date_added_str)\n",
    "\n",
    "        #print(data)\n",
    "except (ConnectionError, Timeout, TooManyRedirects) as e:\n",
    "    print(e)"
   ]
  },
  {
   "cell_type": "code",
   "execution_count": null,
   "id": "c2d22a39",
   "metadata": {},
   "outputs": [],
   "source": [
    "\n",
    "import websocket, json\n",
    "\n",
    "cc = 'btcusd'\n",
    "interval = '1m' \n",
    "\n",
    "socket = f\"wss://stream.binance.com:9443/ws/btcusdt@kline_1m\"\n",
    "\n",
    "def on_message(ws, message):\n",
    "    print(message)\n",
    "    \n",
    "def on_close(ws):\n",
    "    print(\"Connection Closed\")\n",
    "\n",
    "ws = websocket.WebSocketApp(socket,on_message = on_message, on_close = on_close)\n",
    "\n",
    "ws.run_forever()"
   ]
  },
  {
   "cell_type": "code",
   "execution_count": null,
   "id": "15f5d31d",
   "metadata": {},
   "outputs": [],
   "source": [
    "import os\n",
    "import requests\n",
    "import datetime\n",
    "from datetime import date, timedelta\n",
    "\n",
    "url = 'https://pro-api.coinmarketcap.com/v1/cryptocurrency/listings/latest'\n",
    "parameters = {\n",
    "  'start':'1',\n",
    "  'limit':'10',\n",
    "  'convert':'USD'\n",
    "}\n",
    "headers = {\n",
    "  'Accepts': 'application/json',\n",
    "  'X-CMC_PRO_API_KEY': 'da62bf9d-971f-4a45-abd1-d6c558606b01',\n",
    "}\n",
    "\n",
    "response = requests.get(url, params = parameters, headers = headers)\n",
    "data = response.json()['data']\n",
    "print(data)"
   ]
  },
  {
   "cell_type": "code",
   "execution_count": 8,
   "id": "d4ce1ace",
   "metadata": {},
   "outputs": [
    {
     "name": "stdout",
     "output_type": "stream",
     "text": [
      "['solarmine', 'monster-adventure-token', 'guildfi', 'vibranium-token', 'son-of-doge', 'infinitycash', 'meta-billionaires-club', 'shiba-metaverse-shim', 'the-crypto-you', 'waves-exchange-token', 'empire-capital-token', 'pnessmonster', 'metaverse-exchange', 'floshin-token', 'dopewarz', 'meta-rewards-token', 'rematic', 'abura-farm', 'watchsports', 'midasdao', 'king-shiba-inu', 'blackpoker', 'hodl-vault-token', 'shibagalaxy', 'wasdaq-finance', 'terrausd-wormhole', 'tabtrader-token', 'solar-full-cycle', 'kounotori', 'metazoon', 'mufasa-inu', 'ruffy-coin', 'squid-finance', 'kalissa', 'pussycat', 'musk-metaverse', 'magic-forest', 'honey-deluxe-token', 'babylosercoin', 'blue-gold', 'simpli-finance', 'upfund', 'shiba-heist', 'xtremcoin', 'forevergrow', 'buffaloswap-horn', 'astrodonkey', 'shiba-dragon', 'redfrunk', 'ltradex', 'gforce', 'roarts-token', 'atrollcity', 'iceflake-finance', 'wen-lambo', 'sriracha-inu', 'ava-mim', 'kryza-exchange', 'doges-among-us', 'merryxrpmas', 'grim-finance', 'shibana', 'synex-coin', 'cryptotem', 'wmt']\n"
     ]
    }
   ],
   "source": [
    "import os\n",
    "import requests\n",
    "import datetime\n",
    "from datetime import date, timedelta\n",
    "\n",
    "url = 'https://pro-api.coinmarketcap.com/v1/cryptocurrency/listings/latest'\n",
    "parameters = {\n",
    "  'start':'1',\n",
    "  'limit':'5000',\n",
    "  'convert':'USD'\n",
    "}\n",
    "headers = {\n",
    "  'Accepts': 'application/json',\n",
    "  'X-CMC_PRO_API_KEY': 'da62bf9d-971f-4a45-abd1-d6c558606b01',\n",
    "}\n",
    "\n",
    "response = requests.get(url, params = parameters, headers = headers)\n",
    "data = response.json()['data']\n",
    "today = date.today()\n",
    "yesterday = str(today - timedelta(days=2))\n",
    "yesterday_datetime = datetime.datetime.strptime(yesterday, '%Y-%m-%d')\n",
    "listOld = []\n",
    " \n",
    "\n",
    "try:\n",
    "\n",
    "    for i in range(0,len(data), 1):\n",
    "        name = data[i]['slug']\n",
    "        date_added_str = data[i]['date_added'][:10]\n",
    "        date_added = datetime.datetime.strptime(date_added_str, '%Y-%m-%d')\n",
    "\n",
    "        if yesterday_datetime < date_added:\n",
    "            listOld.append(name)\n",
    "            #print(name,\" : \",date_added_str)\n",
    "\n",
    "    print(listOld)\n",
    "except (ConnectionError, Timeout, TooManyRedirects) as e:\n",
    "    print(e)\n"
   ]
  },
  {
   "cell_type": "code",
   "execution_count": 7,
   "id": "e7a21ec8",
   "metadata": {},
   "outputs": [
    {
     "name": "stdout",
     "output_type": "stream",
     "text": [
      "No hay monedas nuevas\n"
     ]
    }
   ],
   "source": [
    "l1 = ['btc','eth','bnb','sol','ant']\n",
    "l2 = ['btc','eth','bnb']\n",
    "new = []\n",
    "vali = False\n",
    "\n",
    "            \n",
    "for i in l2:\n",
    "    if i not in l1:\n",
    "        new.append(i)\n",
    "        vali = True\n",
    "\n",
    "if vali == True:\n",
    "    print(\"Hay monedas nuevas:\\n\")\n",
    "    for i in new:\n",
    "        print(i)\n",
    "\n",
    "else:\n",
    "    print(\"No hay monedas nuevas\")"
   ]
  },
  {
   "cell_type": "code",
   "execution_count": null,
   "id": "28b3b361",
   "metadata": {},
   "outputs": [],
   "source": []
  }
 ],
 "metadata": {
  "kernelspec": {
   "display_name": "Python 3 (ipykernel)",
   "language": "python",
   "name": "python3"
  },
  "language_info": {
   "codemirror_mode": {
    "name": "ipython",
    "version": 3
   },
   "file_extension": ".py",
   "mimetype": "text/x-python",
   "name": "python",
   "nbconvert_exporter": "python",
   "pygments_lexer": "ipython3",
   "version": "3.7.6"
  }
 },
 "nbformat": 4,
 "nbformat_minor": 5
}
